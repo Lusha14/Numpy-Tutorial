{
 "cells": [
  {
   "cell_type": "markdown",
   "id": "7be0baf0",
   "metadata": {},
   "source": [
    "# Array"
   ]
  },
  {
   "cell_type": "code",
   "execution_count": 6,
   "id": "cd7e3583",
   "metadata": {},
   "outputs": [
    {
     "name": "stdout",
     "output_type": "stream",
     "text": [
      "[1 2 3 4]\n",
      "[1 2 3 4]\n",
      "<class 'numpy.ndarray'>\n"
     ]
    }
   ],
   "source": [
    "#Creating arrays\n",
    "import numpy as np\n",
    "a=np.array([1,2,3,4])\n",
    "print(a)\n",
    "x=[1,2,3,4]\n",
    "y=np.array(x)\n",
    "print(y)\n",
    "print(type(y))"
   ]
  },
  {
   "cell_type": "code",
   "execution_count": 10,
   "id": "7f850083",
   "metadata": {},
   "outputs": [
    {
     "name": "stdout",
     "output_type": "stream",
     "text": [
      "Enter the element:1\n",
      "Enter the element:2\n",
      "Enter the element:3\n",
      "Enter the element:4\n",
      "Enter the element:5\n",
      "[1 2 3 4 5]\n",
      "1\n"
     ]
    }
   ],
   "source": [
    "#User input for array\n",
    "l=[]\n",
    "for i in range(1,6):\n",
    "    x=int(input(\"Enter the element:\"))\n",
    "    l.append(x)\n",
    "print(np.array(l))\n",
    "print((np.array(l)).ndim)"
   ]
  },
  {
   "cell_type": "code",
   "execution_count": 12,
   "id": "f04f1148",
   "metadata": {},
   "outputs": [
    {
     "name": "stdout",
     "output_type": "stream",
     "text": [
      "[[1 2 3]\n",
      " [1 2 3]\n",
      " [1 2 3]]\n",
      "2\n"
     ]
    }
   ],
   "source": [
    "#Creating 2-D array\n",
    "ar2=np.array([[1,2,3],[1,2,3],[1,2,3]])\n",
    "print(ar2)\n",
    "print(ar2.ndim)"
   ]
  },
  {
   "cell_type": "code",
   "execution_count": 13,
   "id": "43bab539",
   "metadata": {},
   "outputs": [
    {
     "name": "stdout",
     "output_type": "stream",
     "text": [
      "[[[1 2 3]\n",
      "  [1 2 3]\n",
      "  [1 2 3]]]\n",
      "3\n"
     ]
    }
   ],
   "source": [
    "#Creating 3-D array\n",
    "ar3=np.array([[[1,2,3],[1,2,3],[1,2,3]]])\n",
    "print(ar3)\n",
    "print(ar3.ndim)"
   ]
  },
  {
   "cell_type": "code",
   "execution_count": 15,
   "id": "e9737279",
   "metadata": {},
   "outputs": [
    {
     "name": "stdout",
     "output_type": "stream",
     "text": [
      "[[[[[[[[[[1 2 3]]]]]]]]]]\n",
      "10\n"
     ]
    }
   ],
   "source": [
    "#Creating n-D arrays\n",
    "arn=np.array([1,2,3],ndmin=10)\n",
    "print(arn)\n",
    "print(arn.ndim)"
   ]
  },
  {
   "cell_type": "markdown",
   "id": "1db4a9f1",
   "metadata": {},
   "source": [
    "# Creating numpy array using the numpy function"
   ]
  },
  {
   "cell_type": "code",
   "execution_count": 14,
   "id": "12729c55",
   "metadata": {},
   "outputs": [
    {
     "name": "stdout",
     "output_type": "stream",
     "text": [
      "[[0. 0.]\n",
      " [0. 0.]\n",
      " [0. 0.]\n",
      " [0. 0.]]\n",
      "2\n"
     ]
    }
   ],
   "source": [
    "#Array filled with 0\n",
    "import numpy as np\n",
    "ar_zero=np.zeros((4,2))\n",
    "print(ar_zero)\n",
    "print(ar_zero.ndim)"
   ]
  },
  {
   "cell_type": "code",
   "execution_count": 16,
   "id": "c18f73f4",
   "metadata": {},
   "outputs": [
    {
     "name": "stdout",
     "output_type": "stream",
     "text": [
      "[[1. 1. 1.]\n",
      " [1. 1. 1.]\n",
      " [1. 1. 1.]\n",
      " [1. 1. 1.]]\n"
     ]
    }
   ],
   "source": [
    "#Array filled with 1\n",
    "ar_on=np.ones((4,3))\n",
    "print(ar_on)"
   ]
  },
  {
   "cell_type": "code",
   "execution_count": 18,
   "id": "4d515359",
   "metadata": {},
   "outputs": [
    {
     "name": "stdout",
     "output_type": "stream",
     "text": [
      "[[0. 0.]\n",
      " [0. 0.]\n",
      " [0. 0.]\n",
      " [0. 0.]]\n"
     ]
    }
   ],
   "source": [
    "#Create an empty array\n",
    "ar_em=np.empty((4,2))\n",
    "print(ar_em)"
   ]
  },
  {
   "cell_type": "code",
   "execution_count": 23,
   "id": "75c59164",
   "metadata": {},
   "outputs": [
    {
     "name": "stdout",
     "output_type": "stream",
     "text": [
      "[0 1 2 3 4 5 6 7 8 9]\n"
     ]
    }
   ],
   "source": [
    "#Array with a range of element\n",
    "ar_rn=np.arange(10)\n",
    "print(ar_rn)"
   ]
  },
  {
   "cell_type": "code",
   "execution_count": 26,
   "id": "0b1f9763",
   "metadata": {},
   "outputs": [
    {
     "name": "stdout",
     "output_type": "stream",
     "text": [
      "[[1. 0. 0. 0. 0.]\n",
      " [0. 1. 0. 0. 0.]\n",
      " [0. 0. 1. 0. 0.]\n",
      " [0. 0. 0. 1. 0.]\n",
      " [0. 0. 0. 0. 1.]]\n"
     ]
    }
   ],
   "source": [
    "#Array diagonal element as 1\n",
    "ar_d=np.eye(5)\n",
    "print(ar_d)"
   ]
  },
  {
   "cell_type": "code",
   "execution_count": 31,
   "id": "e714a879",
   "metadata": {},
   "outputs": [
    {
     "name": "stdout",
     "output_type": "stream",
     "text": [
      "[ 1.    5.75 10.5  15.25 20.  ]\n"
     ]
    }
   ],
   "source": [
    "#Array with specified intervals\n",
    "ar_s=np.linspace(1,20,num=5)\n",
    "print(ar_s)"
   ]
  },
  {
   "cell_type": "markdown",
   "id": "f8edd5dc",
   "metadata": {},
   "source": [
    "# Creating numpy arrays with random values\n"
   ]
  },
  {
   "cell_type": "code",
   "execution_count": 38,
   "id": "0c98f094",
   "metadata": {},
   "outputs": [
    {
     "name": "stdout",
     "output_type": "stream",
     "text": [
      "[0.53962847 0.64836654 0.36590872 0.05181165]\n",
      "\n",
      "[[0.46550568 0.42072389 0.0589695  0.34310405]\n",
      " [0.18797483 0.08489295 0.82039531 0.12155569]\n",
      " [0.99602904 0.23952691 0.76968023 0.09971293]\n",
      " [0.2109479  0.0711242  0.93229414 0.83080114]]\n"
     ]
    }
   ],
   "source": [
    "#rand() \n",
    "var=np.random.rand(4)\n",
    "var1=np.random.rand(4,4)\n",
    "print(var)\n",
    "print()\n",
    "print(var1)"
   ]
  },
  {
   "cell_type": "code",
   "execution_count": 39,
   "id": "c9f37850",
   "metadata": {},
   "outputs": [
    {
     "name": "stdout",
     "output_type": "stream",
     "text": [
      "[ 0.59910916 -0.20390771  1.37538989  0.96940554]\n"
     ]
    }
   ],
   "source": [
    "#randn()\n",
    "var2=np.random.randn(4)\n",
    "print(var2)"
   ]
  },
  {
   "cell_type": "code",
   "execution_count": 42,
   "id": "11259e23",
   "metadata": {},
   "outputs": [
    {
     "name": "stdout",
     "output_type": "stream",
     "text": [
      "[0.82557851 0.39940639 0.07152975 0.07164067]\n"
     ]
    }
   ],
   "source": [
    "#randf\n",
    "var3=np.random.ranf(4)\n",
    "print(var3)"
   ]
  },
  {
   "cell_type": "code",
   "execution_count": 44,
   "id": "15db9a8a",
   "metadata": {},
   "outputs": [
    {
     "name": "stdout",
     "output_type": "stream",
     "text": [
      "[[15  5  5 17 13]\n",
      " [14  8 18 17 10]\n",
      " [12 12  7  4  7]\n",
      " [ 7  7 17 14  9]\n",
      " [ 9 19  7  7 17]\n",
      " [17 11 16 11  7]\n",
      " [14 18  9  6 10]\n",
      " [ 5  9  6  5 13]\n",
      " [ 9 17  5  9  8]\n",
      " [11 12 10 19  9]]\n"
     ]
    }
   ],
   "source": [
    "#randint\n",
    "var4=np.random.randint(4,20,(10,5))\n",
    "print(var4)"
   ]
  },
  {
   "cell_type": "markdown",
   "id": "d4fee992",
   "metadata": {},
   "source": [
    "# Data types in Numpy array"
   ]
  },
  {
   "cell_type": "code",
   "execution_count": 46,
   "id": "114ac009",
   "metadata": {},
   "outputs": [
    {
     "name": "stdout",
     "output_type": "stream",
     "text": [
      "Data Type: int32\n"
     ]
    }
   ],
   "source": [
    "var=np.array([1,2,3,4])\n",
    "print(\"Data Type:\",var.dtype) "
   ]
  },
  {
   "cell_type": "code",
   "execution_count": 47,
   "id": "659deefb",
   "metadata": {},
   "outputs": [
    {
     "name": "stdout",
     "output_type": "stream",
     "text": [
      "Data Type: float64\n"
     ]
    }
   ],
   "source": [
    "var=np.array([1.0,2.3,3.4,4.5])\n",
    "print(\"Data Type:\",var.dtype)"
   ]
  },
  {
   "cell_type": "code",
   "execution_count": 48,
   "id": "c0ae41e8",
   "metadata": {},
   "outputs": [
    {
     "name": "stdout",
     "output_type": "stream",
     "text": [
      "Data Type: <U1\n"
     ]
    }
   ],
   "source": [
    "var=np.array([\"A\",\"D\",\"C\"])\n",
    "print(\"Data Type:\",var.dtype)"
   ]
  },
  {
   "cell_type": "code",
   "execution_count": 49,
   "id": "0e13cb8b",
   "metadata": {},
   "outputs": [
    {
     "name": "stdout",
     "output_type": "stream",
     "text": [
      "Data Type: <U11\n"
     ]
    }
   ],
   "source": [
    "var=np.array([\"A\",\"S\",\"F\",1,2,3])\n",
    "print(\"Data Type:\",var.dtype)"
   ]
  },
  {
   "cell_type": "code",
   "execution_count": 50,
   "id": "0ae40781",
   "metadata": {},
   "outputs": [
    {
     "name": "stdout",
     "output_type": "stream",
     "text": [
      "Data Type: int8\n",
      "[1 2 3 4]\n"
     ]
    }
   ],
   "source": [
    "x=np.array([1,2,3,4],dtype=np.int8)\n",
    "print(\"Data Type:\",x.dtype)\n",
    "print(x)"
   ]
  },
  {
   "cell_type": "code",
   "execution_count": 51,
   "id": "c1fbdada",
   "metadata": {},
   "outputs": [
    {
     "name": "stdout",
     "output_type": "stream",
     "text": [
      "Data Type: float32\n",
      "[1. 2. 3. 4.]\n"
     ]
    }
   ],
   "source": [
    "x=np.array([1,2,3,4],dtype=\"f\")\n",
    "print(\"Data Type:\",x.dtype)\n",
    "print(x)"
   ]
  },
  {
   "cell_type": "code",
   "execution_count": 52,
   "id": "ac157ac0",
   "metadata": {},
   "outputs": [
    {
     "name": "stdout",
     "output_type": "stream",
     "text": [
      "Data Type: int32\n",
      "Data Type: float32\n",
      "[1 2 3 4]\n",
      "[1. 2. 3. 4.]\n"
     ]
    }
   ],
   "source": [
    "x=np.array([1,2,3,4])\n",
    "new=np.float32(x)\n",
    "print(\"Data Type:\",x.dtype)\n",
    "print(\"Data Type:\",new.dtype)\n",
    "print(x)\n",
    "print(new)"
   ]
  },
  {
   "cell_type": "code",
   "execution_count": 54,
   "id": "501b8cc2",
   "metadata": {},
   "outputs": [
    {
     "name": "stdout",
     "output_type": "stream",
     "text": [
      "Data Type: int32\n",
      "Data Type: float32\n",
      "Data Type: int32\n",
      "[1 2 3 4]\n",
      "[1. 2. 3. 4.]\n",
      "[1 2 3 4]\n"
     ]
    }
   ],
   "source": [
    "x=np.array([1,2,3,4])\n",
    "new=np.float32(x)\n",
    "new1=np.int32(new)\n",
    "print(\"Data Type:\",x.dtype)\n",
    "print(\"Data Type:\",new.dtype)\n",
    "print(\"Data Type:\",new1.dtype)\n",
    "print(x)\n",
    "print(new)\n",
    "print(new1)"
   ]
  },
  {
   "cell_type": "code",
   "execution_count": 55,
   "id": "9dbc27d3",
   "metadata": {},
   "outputs": [
    {
     "name": "stdout",
     "output_type": "stream",
     "text": [
      "[1 2 3 4]\n",
      "[1. 2. 3. 4.]\n"
     ]
    }
   ],
   "source": [
    "x=np.array([1,2,3,4])\n",
    "new1=x.astype(float)\n",
    "print(x)\n",
    "print(new1)"
   ]
  },
  {
   "cell_type": "markdown",
   "id": "7d76468d",
   "metadata": {},
   "source": [
    "# Arithmetic operation in numpy arrays"
   ]
  },
  {
   "cell_type": "code",
   "execution_count": 57,
   "id": "d3115dc3",
   "metadata": {},
   "outputs": [
    {
     "name": "stdout",
     "output_type": "stream",
     "text": [
      "[4 5 6 7]\n"
     ]
    }
   ],
   "source": [
    "#Addition in arrays\n",
    "var=np.array([1,2,3,4])\n",
    "varadd=var+3\n",
    "print(varadd)"
   ]
  },
  {
   "cell_type": "code",
   "execution_count": 60,
   "id": "c590b802",
   "metadata": {},
   "outputs": [
    {
     "name": "stdout",
     "output_type": "stream",
     "text": [
      "[1 0 0 0]\n",
      "[2 4 6 8]\n",
      "[2 4 6 8]\n"
     ]
    }
   ],
   "source": [
    "var1=np.array([1,2,3,4])\n",
    "var2=np.array([1,2,3,4])\n",
    "varadd=var1+var2\n",
    "v=np.add(var1,var2)\n",
    "r=np.reciprocal(var1)\n",
    "print(r)\n",
    "print(v)\n",
    "print(varadd)"
   ]
  },
  {
   "cell_type": "markdown",
   "id": "2dca27f8",
   "metadata": {},
   "source": [
    "# Likewise all the operations can be perforemd in the arrays whether it's addition, subtraction,multiplication etc.."
   ]
  },
  {
   "cell_type": "markdown",
   "id": "89301b28",
   "metadata": {},
   "source": [
    "# Operations on 2-d arrays"
   ]
  },
  {
   "cell_type": "code",
   "execution_count": 62,
   "id": "089662fe",
   "metadata": {},
   "outputs": [
    {
     "name": "stdout",
     "output_type": "stream",
     "text": [
      "[[1 2 3 4]\n",
      " [1 2 3 4]]\n",
      "\n",
      "[[1 2 3 4]\n",
      " [1 2 3 4]]\n",
      "\n",
      "[[2 4 6 8]\n",
      " [2 4 6 8]]\n",
      "\n",
      "[[2 4 6 8]\n",
      " [2 4 6 8]]\n"
     ]
    }
   ],
   "source": [
    "var1=np.array([[1,2,3,4],[1,2,3,4]])\n",
    "var2=np.array([[1,2,3,4],[1,2,3,4]])\n",
    "print(var1)\n",
    "print()\n",
    "print(var2)\n",
    "print()\n",
    "v=np.add(var1,var2)\n",
    "print(v)\n",
    "print()\n",
    "varadd=var1+var2\n",
    "print(varadd)"
   ]
  },
  {
   "cell_type": "markdown",
   "id": "c9991dbe",
   "metadata": {},
   "source": [
    "# Arithmetic Function in Numpy Arrays"
   ]
  },
  {
   "cell_type": "code",
   "execution_count": 72,
   "id": "72feb70a",
   "metadata": {},
   "outputs": [
    {
     "name": "stdout",
     "output_type": "stream",
     "text": [
      "Min: 1\n",
      "Position of min: 0\n",
      "Max: 9\n",
      "Position of max: 7\n",
      "Squareroot: [1.         1.41421356 1.73205081 2.         2.23606798 1.73205081\n",
      " 2.82842712 3.         1.41421356 1.73205081 2.        ]\n",
      "Cumsum: [ 1  3  6 10 15 18 26 35 37 40 44]\n"
     ]
    }
   ],
   "source": [
    "var= np.array([1,2,3,4,5,3,8,9,2,3,4])\n",
    "print(\"Min:\",np.min(var))\n",
    "print(\"Position of min:\",np.argmin(var))\n",
    "print(\"Max:\",np.max(var))\n",
    "print(\"Position of max:\",np.argmax(var))\n",
    "print(\"Squareroot:\",np.sqrt(var))\n",
    "print(\"Cumsum:\",np.cumsum(var))\n"
   ]
  },
  {
   "cell_type": "code",
   "execution_count": 74,
   "id": "1c8fb58d",
   "metadata": {},
   "outputs": [
    {
     "name": "stdout",
     "output_type": "stream",
     "text": [
      "Along axis-0: [1 0 7 9]\n",
      "Along axis-1: [3 0]\n",
      "Sqare root: [[1.73205081 2.         2.64575131 3.        ]\n",
      " [1.         0.         2.64575131 3.        ]]\n",
      "Cumsum: [[ 3  4  7  9]\n",
      " [ 4  4 14 18]]\n",
      "Cumsum: [[ 3  7 14 23]\n",
      " [ 1  1  8 17]]\n"
     ]
    }
   ],
   "source": [
    "#2-D arrays\n",
    "var1=np.array([[3,4,7,9],[1,0,7,9]])\n",
    "print(\"Along axis-0:\",np.min(var1,axis=0))\n",
    "print(\"Along axis-1:\",np.min(var1,axis=1))\n",
    "print(\"Sqare root:\",np.sqrt(var1))\n",
    "print(\"Cumsum:\",np.cumsum(var1,axis=0))\n",
    "print(\"Cumsum:\",np.cumsum(var1,axis=1))"
   ]
  },
  {
   "cell_type": "markdown",
   "id": "5cfc403a",
   "metadata": {},
   "source": [
    "# Shaping and Reshaping in Numpy Arrays"
   ]
  },
  {
   "cell_type": "markdown",
   "id": "5b8c686a",
   "metadata": {},
   "source": [
    "# shape"
   ]
  },
  {
   "cell_type": "code",
   "execution_count": 77,
   "id": "1488f01d",
   "metadata": {},
   "outputs": [
    {
     "name": "stdout",
     "output_type": "stream",
     "text": [
      "[[[[2 5 4 6 5]]]]\n",
      "\n",
      "(1, 1, 1, 5)\n"
     ]
    }
   ],
   "source": [
    "var=np.array([2,5,4,6,5],ndmin=4)\n",
    "print(var)\n",
    "print()\n",
    "print(var.shape)"
   ]
  },
  {
   "cell_type": "code",
   "execution_count": 80,
   "id": "225678f2",
   "metadata": {},
   "outputs": [
    {
     "name": "stdout",
     "output_type": "stream",
     "text": [
      "[[2 3 4]\n",
      " [5 6 7]]\n",
      "\n",
      "2\n",
      "\n",
      "(2, 3)\n"
     ]
    }
   ],
   "source": [
    "#Dimension of the matrix generated\n",
    "var=np.array([[2,3,4],[5,6,7]])\n",
    "print(var)\n",
    "print()\n",
    "print(var.ndim)\n",
    "print()\n",
    "print(var.shape)"
   ]
  },
  {
   "cell_type": "markdown",
   "id": "6bed4bb3",
   "metadata": {},
   "source": [
    "# Reshape"
   ]
  },
  {
   "cell_type": "code",
   "execution_count": 85,
   "id": "29d8eb2e",
   "metadata": {},
   "outputs": [
    {
     "name": "stdout",
     "output_type": "stream",
     "text": [
      "[1 2 3 4 5 6]\n",
      "\n",
      "[[1 2 3]\n",
      " [4 5 6]]\n"
     ]
    }
   ],
   "source": [
    "#1-D to 2-D\n",
    "var=np.array([1,2,3,4,5,6])\n",
    "print(var)\n",
    "print()\n",
    "x=var.reshape(2,3)\n",
    "print(x)"
   ]
  },
  {
   "cell_type": "code",
   "execution_count": 86,
   "id": "87bffc38",
   "metadata": {},
   "outputs": [
    {
     "name": "stdout",
     "output_type": "stream",
     "text": [
      "[ 1  2  3  4  5  6  7  8  9 10 11 12]\n",
      "\n",
      "[[[ 1  2]\n",
      "  [ 3  4]\n",
      "  [ 5  6]]\n",
      "\n",
      " [[ 7  8]\n",
      "  [ 9 10]\n",
      "  [11 12]]]\n"
     ]
    }
   ],
   "source": [
    "#2-D to 3-D\n",
    "var=np.array([1,2,3,4,5,6,7,8,9,10,11,12])\n",
    "print(var)\n",
    "print()\n",
    "x=var.reshape(2,3,2)\n",
    "print(x)"
   ]
  },
  {
   "cell_type": "code",
   "execution_count": 87,
   "id": "00093cbe",
   "metadata": {},
   "outputs": [
    {
     "name": "stdout",
     "output_type": "stream",
     "text": [
      "[ 1  2  3  4  5  6  7  8  9 10 11 12]\n",
      "\n",
      "[[[ 1  2]\n",
      "  [ 3  4]\n",
      "  [ 5  6]]\n",
      "\n",
      " [[ 7  8]\n",
      "  [ 9 10]\n",
      "  [11 12]]]\n",
      "[ 1  2  3  4  5  6  7  8  9 10 11 12]\n"
     ]
    }
   ],
   "source": [
    "var=np.array([1,2,3,4,5,6,7,8,9,10,11,12])\n",
    "print(var)\n",
    "print()\n",
    "x=var.reshape(2,3,2)\n",
    "print(x)\n",
    "y=x.reshape(-1)\n",
    "print(y)"
   ]
  },
  {
   "cell_type": "markdown",
   "id": "d01cd7fe",
   "metadata": {},
   "source": [
    "# x.reshape(-1) converts the reshaped array into the 1-D array"
   ]
  },
  {
   "cell_type": "code",
   "execution_count": 93,
   "id": "a87b01f2",
   "metadata": {},
   "outputs": [
    {
     "name": "stdout",
     "output_type": "stream",
     "text": [
      "(1, 4)\n",
      "\n",
      "[[1 2]\n",
      " [4 4]]\n",
      "1\n"
     ]
    }
   ],
   "source": [
    "var=np.array([[1,2,4,4]])\n",
    "print(var.shape)\n",
    "x=var.reshape(2,2)\n",
    "print()\n",
    "print(x)\n",
    "print((x.reshape(-1).ndim))\n",
    "\n"
   ]
  },
  {
   "cell_type": "markdown",
   "id": "5bdc89d5",
   "metadata": {},
   "source": [
    "# Broadcasting in numpy arrays"
   ]
  },
  {
   "cell_type": "code",
   "execution_count": 94,
   "id": "965bbdd0",
   "metadata": {},
   "outputs": [
    {
     "name": "stdout",
     "output_type": "stream",
     "text": [
      "[1 2 3 4] \n",
      "\n",
      "[1 2 3] \n",
      "\n"
     ]
    },
    {
     "ename": "ValueError",
     "evalue": "operands could not be broadcast together with shapes (4,) (3,) ",
     "output_type": "error",
     "traceback": [
      "\u001b[1;31m---------------------------------------------------------------------------\u001b[0m",
      "\u001b[1;31mValueError\u001b[0m                                Traceback (most recent call last)",
      "Cell \u001b[1;32mIn[94], line 5\u001b[0m\n\u001b[0;32m      3\u001b[0m \u001b[38;5;28mprint\u001b[39m(x,\u001b[38;5;124m\"\u001b[39m\u001b[38;5;130;01m\\n\u001b[39;00m\u001b[38;5;124m\"\u001b[39m)\n\u001b[0;32m      4\u001b[0m \u001b[38;5;28mprint\u001b[39m(y,\u001b[38;5;124m\"\u001b[39m\u001b[38;5;130;01m\\n\u001b[39;00m\u001b[38;5;124m\"\u001b[39m)\n\u001b[1;32m----> 5\u001b[0m \u001b[38;5;28mprint\u001b[39m(x\u001b[38;5;241m+\u001b[39my)\n",
      "\u001b[1;31mValueError\u001b[0m: operands could not be broadcast together with shapes (4,) (3,) "
     ]
    }
   ],
   "source": [
    "x=np.array([1,2,3,4])\n",
    "y=np.array([1,2,3])\n",
    "print(x,\"\\n\")\n",
    "print(y,\"\\n\")\n",
    "print(x+y)"
   ]
  },
  {
   "cell_type": "markdown",
   "id": "cba2fd02",
   "metadata": {},
   "source": [
    "# operands could not be broadcast together with shapes (4,) (3,)"
   ]
  },
  {
   "cell_type": "code",
   "execution_count": 95,
   "id": "889a0f5c",
   "metadata": {},
   "outputs": [
    {
     "name": "stdout",
     "output_type": "stream",
     "text": [
      "[1 2 3] \n",
      "\n",
      "[[1]\n",
      " [2]\n",
      " [3]] \n",
      "\n",
      "[[2 3 4]\n",
      " [3 4 5]\n",
      " [4 5 6]]\n"
     ]
    }
   ],
   "source": [
    "x=np.array([1,2,3,])\n",
    "y=np.array([[1],[2],[3]])\n",
    "print(x,\"\\n\")\n",
    "print(y,\"\\n\")\n",
    "print(x+y)"
   ]
  },
  {
   "cell_type": "code",
   "execution_count": 102,
   "id": "a3dcaa81",
   "metadata": {},
   "outputs": [
    {
     "name": "stdout",
     "output_type": "stream",
     "text": [
      "[[[[[1 2 3 1 2 3]]]]] \n",
      "\n",
      "(1, 1, 1, 1, 6)\n",
      "[[[1]\n",
      "  [2]\n",
      "  [3]\n",
      "  [4]\n",
      "  [5]]] \n",
      "\n",
      "(1, 5, 1)\n",
      "[[[[[2 3 4 2 3 4]\n",
      "    [3 4 5 3 4 5]\n",
      "    [4 5 6 4 5 6]\n",
      "    [5 6 7 5 6 7]\n",
      "    [6 7 8 6 7 8]]]]]\n"
     ]
    }
   ],
   "source": [
    "x=np.array([1,2,3,1,2,3],ndmin=5)\n",
    "y=np.array([[[1],[2],[3],[4],[5]]])\n",
    "print(x,\"\\n\")\n",
    "print(x.shape)\n",
    "print(y,\"\\n\")\n",
    "print(y.shape)\n",
    "print(x+y)"
   ]
  },
  {
   "cell_type": "markdown",
   "id": "2970fccb",
   "metadata": {},
   "source": [
    "# Indexing and slicing in numpy arrays"
   ]
  },
  {
   "cell_type": "markdown",
   "id": "c9f1467b",
   "metadata": {},
   "source": [
    "# INDEXING"
   ]
  },
  {
   "cell_type": "code",
   "execution_count": 3,
   "id": "99913e66",
   "metadata": {},
   "outputs": [
    {
     "name": "stdout",
     "output_type": "stream",
     "text": [
      "1\n",
      "4\n"
     ]
    }
   ],
   "source": [
    "#1-D array\n",
    "import numpy as np\n",
    "var=np.array([1,2,3,4])\n",
    "#             0,1,2,3\n",
    "#             -4,-3,-2,-1\n",
    "print(var[0])\n",
    "print(var[-1])"
   ]
  },
  {
   "cell_type": "code",
   "execution_count": 5,
   "id": "ffc22219",
   "metadata": {},
   "outputs": [
    {
     "name": "stdout",
     "output_type": "stream",
     "text": [
      "[[9 8 7]\n",
      " [4 5 6]]\n",
      "\n",
      "2\n",
      "\n",
      "7\n"
     ]
    }
   ],
   "source": [
    "#2-D array\n",
    "var1=np.array([[9,8,7],[4,5,6]])\n",
    "print(var1)\n",
    "print()\n",
    "print(var1.ndim)\n",
    "print()\n",
    "print(var1[0,2])\n",
    "#       (no. of row,no. of element)\n"
   ]
  },
  {
   "cell_type": "code",
   "execution_count": 14,
   "id": "b47050ac",
   "metadata": {},
   "outputs": [
    {
     "name": "stdout",
     "output_type": "stream",
     "text": [
      "[[[9 8 7]\n",
      "  [4 5 6]\n",
      "  [1 2 3]]\n",
      "\n",
      " [[1 1 1]\n",
      "  [1 2 3]\n",
      "  [4 9 0]]]\n",
      "\n",
      "3\n",
      "\n",
      "1\n"
     ]
    }
   ],
   "source": [
    "#3-D array\n",
    "var2=np.array([[[9,8,7],[4,5,6],[1,2,3]],[[1,1,1],[1,2,3],[4,9,0]]])\n",
    "print(var2)\n",
    "print()\n",
    "print(var2.ndim)\n",
    "print()\n",
    "print(var2[1,0,2])"
   ]
  },
  {
   "cell_type": "markdown",
   "id": "24bf39f9",
   "metadata": {},
   "source": [
    "# SLICING"
   ]
  },
  {
   "cell_type": "code",
   "execution_count": 21,
   "id": "3703964b",
   "metadata": {},
   "outputs": [
    {
     "name": "stdout",
     "output_type": "stream",
     "text": [
      "[ 2  4  6  8 10 12 14 16 18 20]\n",
      "\n",
      "Elements from 2 to 12: [ 2  4  6  8 10 12]\n",
      "\n",
      "Elements from 6 to end: [ 6  8 10 12 14 16 18 20]\n",
      "\n",
      "Start to 14: [ 2  4  6  8 10 12 14]\n",
      "\n",
      "using stop and step parameter: [ 4  8 12]\n",
      "[ 2  6 10 14 18]\n"
     ]
    }
   ],
   "source": [
    "  #Slicing in 1-D array\n",
    "x=np.array([2,4,6,8,10,12,14,16,18,20])\n",
    "#           0,1,2,3, 4, 5, 6, 7, 8, 9\n",
    "print(x)\n",
    "print()\n",
    "print(\"Elements from 2 to 12:\",x[:6])\n",
    "print()\n",
    "print(\"Elements from 6 to end:\",x[2:])\n",
    "print()\n",
    "print(\"Start to 14:\",x[:7])\n",
    "print()\n",
    "print(\"using stop and step parameter:\",x[1:7:2])\n",
    "                                 #      [start,stop,step]\n",
    "print(x[::2])"
   ]
  },
  {
   "cell_type": "code",
   "execution_count": 23,
   "id": "50f69c76",
   "metadata": {},
   "outputs": [
    {
     "name": "stdout",
     "output_type": "stream",
     "text": [
      "[[ 1  2  3  4  5]\n",
      " [ 6  7  8  9 10]\n",
      " [11 12 13 14 15]]\n",
      "\n",
      "Element form 7 to 10: [ 7  8  9 10]\n",
      "\n",
      "Element from 6 to 10 with gap of 2: [ 6  8 10]\n"
     ]
    }
   ],
   "source": [
    "#Slicing in 2-D array\n",
    "y=np.array([[1,2,3,4,5],[6,7,8,9,10],[11,12,13,14,15]])\n",
    "print(y)\n",
    "print()\n",
    "print(\"Element form 7 to 10:\",y[1,1:])\n",
    "             #                [row number,element index]\n",
    "print()\n",
    "print(\"Element from 6 to 10 with gap of 2:\",y[1,0::2])"
   ]
  },
  {
   "cell_type": "code",
   "execution_count": 28,
   "id": "4b842711",
   "metadata": {},
   "outputs": [
    {
     "name": "stdout",
     "output_type": "stream",
     "text": [
      "[[[1 2 3 5]\n",
      "  [2 1 2 1]]\n",
      "\n",
      " [[3 4 7 8]\n",
      "  [4 3 9 0]]\n",
      "\n",
      " [[6 7 4 5]\n",
      "  [8 7 6 7]]]\n",
      "\n",
      "Elements from 3 to 8:  [3 4 7 8]\n"
     ]
    }
   ],
   "source": [
    "#Slicing in 3-D array\n",
    "z=np.array([[[1,2,3,5],[2,1,2,1]],[[3,4,7,8],[4,3,9,0]],[[6,7,4,5],[8,7,6,7]]])\n",
    "print(z)\n",
    "print()\n",
    "print(\"Elements from 3 to 8: \",z[1,0,0:4])"
   ]
  },
  {
   "cell_type": "markdown",
   "id": "497a42bd",
   "metadata": {},
   "source": [
    "# ITERATING NUMPY ARRAY"
   ]
  },
  {
   "cell_type": "code",
   "execution_count": 31,
   "id": "6a333945",
   "metadata": {},
   "outputs": [
    {
     "name": "stdout",
     "output_type": "stream",
     "text": [
      "4\n",
      "5\n",
      "6\n",
      "7\n",
      "8\n",
      "9\n"
     ]
    }
   ],
   "source": [
    "#iterating 1-D array\n",
    "p=np.array([4,5,6,7,8,9])\n",
    "for i in p:\n",
    "    print(i)"
   ]
  },
  {
   "cell_type": "code",
   "execution_count": 33,
   "id": "77888089",
   "metadata": {},
   "outputs": [
    {
     "name": "stdout",
     "output_type": "stream",
     "text": [
      "[[1 2 3]\n",
      " [3 4 5]\n",
      " [6 7 8]\n",
      " [9 0 3]]\n",
      "\n",
      "[1 2 3]\n",
      "[3 4 5]\n",
      "[6 7 8]\n",
      "[9 0 3]\n",
      "\n",
      "1\n",
      "2\n",
      "3\n",
      "3\n",
      "4\n",
      "5\n",
      "6\n",
      "7\n",
      "8\n",
      "9\n",
      "0\n",
      "3\n"
     ]
    }
   ],
   "source": [
    "#iterating 2-d array\n",
    "q=np.array([[1,2,3],[3,4,5],[6,7,8],[9,0,3]])\n",
    "print(q)\n",
    "print()\n",
    "for i in q:\n",
    "    print(i)\n",
    "print()\n",
    "for j in q:\n",
    "    for k in j:\n",
    "        print(k)\n"
   ]
  },
  {
   "cell_type": "code",
   "execution_count": 37,
   "id": "87870c9b",
   "metadata": {},
   "outputs": [
    {
     "name": "stdout",
     "output_type": "stream",
     "text": [
      "[[[1 2 3]]\n",
      "\n",
      " [[4 5 6]]\n",
      "\n",
      " [[7 8 9]]]\n",
      "\n",
      "Row in r: [[1 2 3]]\n",
      "Row in r: [[4 5 6]]\n",
      "Row in r: [[7 8 9]]\n",
      "\n",
      "Each element: 1\n",
      "Each element: 2\n",
      "Each element: 3\n",
      "Each element: 4\n",
      "Each element: 5\n",
      "Each element: 6\n",
      "Each element: 7\n",
      "Each element: 8\n",
      "Each element: 9\n"
     ]
    }
   ],
   "source": [
    "#iterating 3-D array\n",
    "r=np.array([[[1,2,3]],[[4,5,6]],[[7,8,9]]])\n",
    "print(r)\n",
    "print()\n",
    "for i in r:\n",
    "    print(\"Row in r:\",i)\n",
    "print()\n",
    "for j in r:\n",
    "    for k in j:\n",
    "        for l in k:\n",
    "            print(\"Each element:\",l)"
   ]
  },
  {
   "cell_type": "markdown",
   "id": "8ae78e52",
   "metadata": {},
   "source": [
    "# Using nditer()"
   ]
  },
  {
   "cell_type": "code",
   "execution_count": 38,
   "id": "7f38ec69",
   "metadata": {},
   "outputs": [
    {
     "name": "stdout",
     "output_type": "stream",
     "text": [
      "[[[1 2 3]]\n",
      "\n",
      " [[4 5 6]]\n",
      "\n",
      " [[7 8 9]]]\n",
      "\n",
      "1\n",
      "2\n",
      "3\n",
      "4\n",
      "5\n",
      "6\n",
      "7\n",
      "8\n",
      "9\n"
     ]
    }
   ],
   "source": [
    "r=np.array([[[1,2,3]],[[4,5,6]],[[7,8,9]]])\n",
    "print(r)\n",
    "print()\n",
    "for i in np.nditer(r):\n",
    "    print(i)"
   ]
  },
  {
   "cell_type": "markdown",
   "id": "44fbc4f1",
   "metadata": {},
   "source": [
    "# Using ndenumerate()"
   ]
  },
  {
   "cell_type": "code",
   "execution_count": 39,
   "id": "7ad5f4f8",
   "metadata": {},
   "outputs": [
    {
     "name": "stdout",
     "output_type": "stream",
     "text": [
      "[[[1 2 3]]\n",
      "\n",
      " [[4 5 6]]\n",
      "\n",
      " [[7 8 9]]]\n",
      "\n",
      "(0, 0, 0) 1\n",
      "(0, 0, 1) 2\n",
      "(0, 0, 2) 3\n",
      "(1, 0, 0) 4\n",
      "(1, 0, 1) 5\n",
      "(1, 0, 2) 6\n",
      "(2, 0, 0) 7\n",
      "(2, 0, 1) 8\n",
      "(2, 0, 2) 9\n"
     ]
    }
   ],
   "source": [
    "r=np.array([[[1,2,3]],[[4,5,6]],[[7,8,9]]])\n",
    "print(r)\n",
    "print()\n",
    "for i,d in np.ndenumerate(r):\n",
    "    print(i,d)"
   ]
  },
  {
   "cell_type": "markdown",
   "id": "7bc587b0",
   "metadata": {},
   "source": [
    "# Copy vs View in Numpy Arrays"
   ]
  },
  {
   "cell_type": "code",
   "execution_count": 41,
   "id": "ff2efd84",
   "metadata": {},
   "outputs": [
    {
     "name": "stdout",
     "output_type": "stream",
     "text": [
      "Original: [ 1 40  3  4]\n",
      "Copied: [1 2 3 4]\n"
     ]
    }
   ],
   "source": [
    "#Copy\n",
    "s=np.array([1,2,3,4])\n",
    "c=s.copy()\n",
    "s[1]=40                #changes amde in original array is not reflected \n",
    "print(\"Original:\",s)   #in the copied array\n",
    "print(\"Copied:\",c)"
   ]
  },
  {
   "cell_type": "code",
   "execution_count": 45,
   "id": "14c6390d",
   "metadata": {},
   "outputs": [
    {
     "name": "stdout",
     "output_type": "stream",
     "text": [
      "Original: [22  2  3 66]\n",
      "Copied: [22  2  3 66]\n"
     ]
    }
   ],
   "source": [
    "#View\n",
    "t=np.array([1,2,3,4])\n",
    "v=t.view()\n",
    "t[3]=66               #changes made in any of the array will be reflected\n",
    "v[0]=22               # in the both array.\n",
    "print(\"Original:\",t)\n",
    "print(\"Copied:\",v)"
   ]
  },
  {
   "cell_type": "markdown",
   "id": "20bcd5c1",
   "metadata": {},
   "source": [
    "# Join and Split function in Numpy Arrays"
   ]
  },
  {
   "cell_type": "code",
   "execution_count": 5,
   "id": "c4a27f94",
   "metadata": {},
   "outputs": [
    {
     "name": "stdout",
     "output_type": "stream",
     "text": [
      "[1 2 3 4 5 6 7 8]\n"
     ]
    }
   ],
   "source": [
    "#concatnate two arrays 1-d array\n",
    "import numpy as np\n",
    "vr=np.array([1,2,3,4])\n",
    "vr1=np.array([5,6,7,8])\n",
    "new=np.concatenate((vr,vr1))\n",
    "print(new)"
   ]
  },
  {
   "cell_type": "code",
   "execution_count": 11,
   "id": "2bdbf81b",
   "metadata": {},
   "outputs": [
    {
     "name": "stdout",
     "output_type": "stream",
     "text": [
      "[[1 2]\n",
      " [3 4]\n",
      " [5 6]\n",
      " [7 8]]\n",
      "\n",
      "[[1 2 5 6]\n",
      " [3 4 7 8]]\n",
      "2\n"
     ]
    }
   ],
   "source": [
    "#concatenate 2-D array\n",
    "vr=np.array([[1,2],[3,4]])\n",
    "vr1=np.array([[5,6],[7,8]])\n",
    "new=np.concatenate((vr,vr1),axis=0)\n",
    "new1=np.concatenate((vr,vr1),axis=1)\n",
    "print(new)\n",
    "print()\n",
    "print(new1)\n",
    "print(new.ndim)"
   ]
  },
  {
   "cell_type": "code",
   "execution_count": 87,
   "id": "7d219550",
   "metadata": {},
   "outputs": [
    {
     "name": "stdout",
     "output_type": "stream",
     "text": [
      "[[1 5]\n",
      " [2 6]\n",
      " [3 7]\n",
      " [4 8]]\n"
     ]
    }
   ],
   "source": [
    "# stack()\n",
    "vr=np.array([1,2,3,4])\n",
    "vr1=np.array([5,6,7,8])\n",
    "new=np.stack((vr,vr1),axis=1) #axis can also be given\n",
    "print(new)"
   ]
  },
  {
   "cell_type": "markdown",
   "id": "ffdb4753",
   "metadata": {},
   "source": [
    "# Stack fun. is of three types:\n",
    "    hstack(),vstack(),dstack().These eliminates the parameter axis to\n",
    "    pass within the stack fun."
   ]
  },
  {
   "cell_type": "code",
   "execution_count": 18,
   "id": "c1956365",
   "metadata": {},
   "outputs": [
    {
     "name": "stdout",
     "output_type": "stream",
     "text": [
      "[1 2 3 4]\n",
      "\n",
      "[5 6 7 8]\n",
      "\n",
      "Merging along row: [1 2 3 4 5 6 7 8]\n",
      "\n",
      "Merging along column: [[1 2 3 4]\n",
      " [5 6 7 8]]\n",
      "\n",
      "Merging along height: [[[1 5]\n",
      "  [2 6]\n",
      "  [3 7]\n",
      "  [4 8]]]\n"
     ]
    }
   ],
   "source": [
    "vr=np.array([1,2,3,4])\n",
    "vr1=np.array([5,6,7,8])\n",
    "new=np.hstack((vr,vr1))      #along row\n",
    "new1=np.vstack((vr,vr1))      #along column\n",
    "new2=np.dstack((vr,vr1))      #along height\n",
    "print(vr)\n",
    "print()\n",
    "print(vr1)\n",
    "print()\n",
    "print(\"Merging along row:\",new)\n",
    "print()\n",
    "print(\"Merging along column:\",new1)\n",
    "print()\n",
    "print(\"Merging along height:\",new2)"
   ]
  },
  {
   "cell_type": "markdown",
   "id": "a8d6b2dc",
   "metadata": {},
   "source": [
    "# split array"
   ]
  },
  {
   "cell_type": "code",
   "execution_count": 89,
   "id": "2ff1b894",
   "metadata": {},
   "outputs": [
    {
     "name": "stdout",
     "output_type": "stream",
     "text": [
      "[1 2 3 4 5 6]\n",
      "\n",
      "[array([1, 2]), array([3, 4]), array([5, 6])]\n",
      "\n",
      "<class 'list'>\n",
      "<class 'numpy.ndarray'>\n"
     ]
    }
   ],
   "source": [
    "var=np.array([1,2,3,4,5,6])\n",
    "print(var)\n",
    "print()\n",
    "ar1=np.array_split(var,3)\n",
    "                  #(variable name,no. of array user want)\n",
    "print(ar1)\n",
    "print()\n",
    "print(type(ar1))\n",
    "print(type(ar1[0]))"
   ]
  },
  {
   "cell_type": "code",
   "execution_count": 26,
   "id": "d1ae7abb",
   "metadata": {},
   "outputs": [
    {
     "name": "stdout",
     "output_type": "stream",
     "text": [
      "[[1 2]\n",
      " [3 4]\n",
      " [5 6]]\n",
      "\n",
      "[array([[1],\n",
      "       [3],\n",
      "       [5]]), array([[2],\n",
      "       [4],\n",
      "       [6]]), array([], shape=(3, 0), dtype=int32)]\n",
      "\n",
      "<class 'list'>\n",
      "<class 'numpy.ndarray'>\n"
     ]
    }
   ],
   "source": [
    "var=np.array([[1,2],[3,4],[5,6]])\n",
    "print(var)\n",
    "print()\n",
    "ar1=np.array_split(var,3,axis=1)\n",
    "                  #(variable name,no. of array user want,axis)\n",
    "print(ar1)\n",
    "print()\n",
    "print(type(ar1))\n",
    "print(type(ar1[0]))"
   ]
  },
  {
   "cell_type": "markdown",
   "id": "923f4f54",
   "metadata": {},
   "source": [
    "# NUMPY ARRAY FUNCTION"
   ]
  },
  {
   "cell_type": "code",
   "execution_count": 35,
   "id": "e5906964",
   "metadata": {},
   "outputs": [
    {
     "name": "stdout",
     "output_type": "stream",
     "text": [
      "[1 2 3 4 2 2 4 5 8 9 0 2]\n",
      "\n",
      "(array([0, 1, 3, 4, 6, 8], dtype=int64),)\n"
     ]
    }
   ],
   "source": [
    "#Search array element\n",
    "x=np.array([1,2,3,4,2,2,4,5,8,9,0,2])\n",
    "        #   0,1,2,3,4,5,6,7,8,9,10,11\n",
    "print(x)\n",
    "print()\n",
    "y=np.where((var%2)==0)\n",
    "print(y)\n"
   ]
  },
  {
   "cell_type": "code",
   "execution_count": 34,
   "id": "51661b64",
   "metadata": {},
   "outputs": [
    {
     "name": "stdout",
     "output_type": "stream",
     "text": [
      "(array([0, 1, 3, 4, 6, 8], dtype=int64),)\n"
     ]
    }
   ],
   "source": [
    "var=np.array([4,2,3,4,2,5,2,5,6,7])\n",
    "x=np.where( (var%2)==0)\n",
    "print(x)"
   ]
  },
  {
   "cell_type": "code",
   "execution_count": 46,
   "id": "1fdbdfb9",
   "metadata": {},
   "outputs": [
    {
     "name": "stdout",
     "output_type": "stream",
     "text": [
      "[ 1  2  3  5  6  7  8 10 13 15]\n",
      "\n",
      "8\n"
     ]
    }
   ],
   "source": [
    "#Search sorted array\n",
    "var=np.array([1,2,3,5,6,7,8,10,13,15])\n",
    "print(var)\n",
    "print()\n",
    "v1=np.searchsorted(var,12)\n",
    "print(v1)"
   ]
  },
  {
   "cell_type": "markdown",
   "id": "b8596095",
   "metadata": {},
   "source": [
    "# SORT"
   ]
  },
  {
   "cell_type": "code",
   "execution_count": 48,
   "id": "00a8784f",
   "metadata": {},
   "outputs": [
    {
     "name": "stdout",
     "output_type": "stream",
     "text": [
      "[ 0  3  5  6  8 10 13 15 59 67 71]\n"
     ]
    }
   ],
   "source": [
    "vp=np.array([59,67,3,5,6,71,0,8,10,13,15])\n",
    "print(np.sort(vp))"
   ]
  },
  {
   "cell_type": "code",
   "execution_count": 49,
   "id": "80d5e74d",
   "metadata": {},
   "outputs": [
    {
     "name": "stdout",
     "output_type": "stream",
     "text": [
      "['Khushi' 'Kiran' 'Nutan' 'Priy']\n"
     ]
    }
   ],
   "source": [
    "vs=np.array([\"Khushi\",\"Kiran\",\"Priy\",\"Nutan\"])\n",
    "print(np.sort(vs))"
   ]
  },
  {
   "cell_type": "code",
   "execution_count": 50,
   "id": "1408915d",
   "metadata": {},
   "outputs": [
    {
     "name": "stdout",
     "output_type": "stream",
     "text": [
      "[[2 5]\n",
      " [3 4]\n",
      " [1 7]]\n"
     ]
    }
   ],
   "source": [
    "v=np.array([[5,2],[3,4],[1,7]])\n",
    "print(np.sort(v))"
   ]
  },
  {
   "cell_type": "code",
   "execution_count": 51,
   "id": "04b05c78",
   "metadata": {},
   "outputs": [
    {
     "name": "stdout",
     "output_type": "stream",
     "text": [
      "['Khushi' 'Priy' 'alu']\n"
     ]
    }
   ],
   "source": [
    "#Filter Array\n",
    "vs=np.array([\"Khushi\",\"Kiran\",\"Priy\",\"Nutan\",\"jo\",\"alu\"])\n",
    "f=[True,False,True,False,False,True]\n",
    "print(vs[f])\n"
   ]
  },
  {
   "cell_type": "code",
   "execution_count": 53,
   "id": "5302e03d",
   "metadata": {},
   "outputs": [
    {
     "name": "stdout",
     "output_type": "stream",
     "text": [
      "[4 5 1 2 3]\n"
     ]
    }
   ],
   "source": [
    "#shuffling of data\n",
    "var=np.array([1,2,3,4,5])\n",
    "np.random.shuffle(var)\n",
    "print(var)"
   ]
  },
  {
   "cell_type": "code",
   "execution_count": 56,
   "id": "53e6d859",
   "metadata": {},
   "outputs": [
    {
     "name": "stdout",
     "output_type": "stream",
     "text": [
      "(array([1, 2, 3, 4, 5, 6, 7]), array([0, 1, 2, 3, 5, 7, 8], dtype=int64), array([1, 3, 1, 1, 1, 1, 1], dtype=int64))\n"
     ]
    }
   ],
   "source": [
    "#removes the repition of the data using the unique()\n",
    "v1=np.array([1,2,3,4,2,5,2,6,7])\n",
    "x=np.unique(v1,return_index=True,return_counts=True)\n",
    "print(x)"
   ]
  },
  {
   "cell_type": "code",
   "execution_count": 58,
   "id": "88eab501",
   "metadata": {},
   "outputs": [
    {
     "name": "stdout",
     "output_type": "stream",
     "text": [
      "[[1 2 3]\n",
      " [4 5 6]]\n"
     ]
    }
   ],
   "source": [
    "#change the size of the array using resize()\n",
    "v2=np.array([1,2,3,4,5,6])\n",
    "y=np.resize(v2,(3,2))                   \n",
    "                #shape in which it is req. to be resized\n",
    "print(y)"
   ]
  },
  {
   "cell_type": "code",
   "execution_count": 65,
   "id": "5e568872",
   "metadata": {},
   "outputs": [
    {
     "name": "stdout",
     "output_type": "stream",
     "text": [
      "[[1 2]\n",
      " [3 4]\n",
      " [5 6]]\n",
      "\n",
      "Flatten: [1 3 5 2 4 6]\n",
      "Ravel: [1 3 5 2 4 6]\n"
     ]
    }
   ],
   "source": [
    "#Flatten and ravel function are used to convert 2-D arrays into 1-D array\n",
    "v2=np.array([1,2,3,4,5,6])\n",
    "y=np.resize(v2,(3,2))\n",
    "print(y)\n",
    "print()\n",
    "print(\"Flatten:\",y.flatten(order=\"F\")) #converted in 1-D array\n",
    "#ravel()\n",
    "print(\"Ravel:\",np.ravel(y,order=\"F\"))"
   ]
  },
  {
   "cell_type": "markdown",
   "id": "21ccc605",
   "metadata": {},
   "source": [
    "# INSERT AND DELETE FUNCTIONS IN NUMPY ARRAYS"
   ]
  },
  {
   "cell_type": "markdown",
   "id": "df4b86cd",
   "metadata": {},
   "source": [
    "# INSERT"
   ]
  },
  {
   "cell_type": "code",
   "execution_count": 78,
   "id": "5299f88a",
   "metadata": {},
   "outputs": [
    {
     "name": "stdout",
     "output_type": "stream",
     "text": [
      "[1 2 3 4]\n",
      "\n",
      "[ 1  2  3 40  4]\n",
      "\n",
      "[ 1  2 40  3 40  4]\n",
      "[1.  2.  3.  4.  6.5]\n"
     ]
    }
   ],
   "source": [
    "v=np.array([1,2,3,4])\n",
    "print(v)\n",
    "print()\n",
    "vn=np.insert(v,3,40)\n",
    "print(vn)\n",
    "#if 40 is needed to be inserted in more than one index then,\n",
    "print()\n",
    "vnn=np.insert(v,(2,3),40)\n",
    "print(vnn)\n",
    "#Float value can't be inserted. it takes the integer part only\n",
    "#inserting data using append function,\n",
    "x=np.append(v,6.5)\n",
    "print(x)"
   ]
  },
  {
   "cell_type": "code",
   "execution_count": 82,
   "id": "9db5db6c",
   "metadata": {},
   "outputs": [
    {
     "name": "stdout",
     "output_type": "stream",
     "text": [
      "[[1 2 3]\n",
      " [4 5 6]]\n",
      "\n",
      "[[ 1  2  3]\n",
      " [ 4  5  6]\n",
      " [40 40 40]]\n",
      "\n",
      "[[ 1  2 40  3]\n",
      " [ 4  5 40  6]]\n",
      "\n",
      "[[ 1  2 20  3]\n",
      " [ 4  5 23  6]]\n",
      "\n",
      "[[ 1  2  3]\n",
      " [ 4  5  6]\n",
      " [45 44 43]]\n"
     ]
    }
   ],
   "source": [
    "v2=np.array([[1,2,3],[4,5,6]])\n",
    "v2n=np.insert(v2,2,40,axis=0)\n",
    "v3n=np.insert(v2,2,40,axis=1)\n",
    "         #   (array,posn,value,axis)\n",
    "print(v2)\n",
    "print()\n",
    "print(v2n)\n",
    "print()\n",
    "print(v3n)\n",
    "#if multiple value is required to be added in the array,\n",
    "v4n=np.insert(v2,2,[20,23],axis=1)\n",
    "print()\n",
    "print(v4n)\n",
    "print()\n",
    "#inserting data into array using append function\n",
    "v5n=np.append(v2,[[45,44,43]],axis=0)\n",
    "print(v5n)"
   ]
  },
  {
   "cell_type": "markdown",
   "id": "b423272a",
   "metadata": {},
   "source": [
    "# DELETE"
   ]
  },
  {
   "cell_type": "code",
   "execution_count": 83,
   "id": "7b69ed56",
   "metadata": {},
   "outputs": [
    {
     "name": "stdout",
     "output_type": "stream",
     "text": [
      "[1 2 3 4]\n",
      "\n",
      "[1 2 4]\n"
     ]
    }
   ],
   "source": [
    "var1=np.array([1,2,3,4])\n",
    "print(var1)\n",
    "print()\n",
    "d=np.delete(var1,2)\n",
    "print(d)"
   ]
  },
  {
   "cell_type": "code",
   "execution_count": 85,
   "id": "bf160ec2",
   "metadata": {},
   "outputs": [
    {
     "name": "stdout",
     "output_type": "stream",
     "text": [
      "[[1 2 3]\n",
      " [4 5 6]]\n",
      "\n",
      "[1 4 5 6]\n"
     ]
    }
   ],
   "source": [
    "v2=np.array([[1,2,3],[4,5,6]])\n",
    "print(v2)\n",
    "print()\n",
    "'''vn=np.delete(v2,[1,2])\n",
    "print(vn)'''"
   ]
  },
  {
   "cell_type": "markdown",
   "id": "d596a341",
   "metadata": {},
   "source": [
    "# MATRIX IN NUMPY ARRAY"
   ]
  },
  {
   "cell_type": "code",
   "execution_count": 3,
   "id": "d0b13ee9",
   "metadata": {},
   "outputs": [
    {
     "name": "stdout",
     "output_type": "stream",
     "text": [
      "[[1 4]\n",
      " [2 5]\n",
      " [3 6]]\n"
     ]
    }
   ],
   "source": [
    "\n",
    "# MATRIX IN NUMPY ARRAY\n",
    "# Program to transpose a matrix\n",
    "\n",
    "# FOCAL CELL\n",
    "import numpy as np\n",
    "v = np.array([[1, 2, 3], [4, 5, 6]])\n",
    "transposed_v = np.transpose(v)\n",
    "print(transposed_v)\n"
   ]
  },
  {
   "cell_type": "code",
   "execution_count": null,
   "id": "be117b9b",
   "metadata": {},
   "outputs": [],
   "source": []
  }
 ],
 "metadata": {
  "kernelspec": {
   "display_name": "Python 3 (ipykernel)",
   "language": "python",
   "name": "python3"
  },
  "language_info": {
   "codemirror_mode": {
    "name": "ipython",
    "version": 3
   },
   "file_extension": ".py",
   "mimetype": "text/x-python",
   "name": "python",
   "nbconvert_exporter": "python",
   "pygments_lexer": "ipython3",
   "version": "3.11.8"
  }
 },
 "nbformat": 4,
 "nbformat_minor": 5
}
